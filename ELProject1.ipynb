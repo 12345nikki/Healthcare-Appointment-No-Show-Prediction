{
 "cells": [
  {
   "cell_type": "markdown",
   "id": "00598d16-27ab-4654-98f7-43ad996fc947",
   "metadata": {},
   "source": [
    "# Healthcare Appointment No-Show Prediction\n",
    "\n",
    "### Objective\n",
    "To predict whether patients will miss their appointments and to identify factors affecting no-shows.\n",
    "\n",
    "### Tools Used\n",
    "- Python (Pandas, NumPy, Matplotlib, Scikit-learn)\n",
    "- Dataset: appointments.csv\n",
    "\n",
    "### Steps\n",
    "1. Import and clean the dataset  \n",
    "2. Explore data (EDA)  \n",
    "3. Train machine learning model  \n",
    "4. Evaluate performance  \n",
    "5. Draw insights and conclusions\n",
    "\n"
   ]
  },
  {
   "cell_type": "markdown",
   "id": "bcbeda1b-2c3b-49d8-b999-d2acc08f6cdb",
   "metadata": {},
   "source": [
    "## Import Libraries & Load Data"
   ]
  },
  {
   "cell_type": "code",
   "execution_count": 2,
   "id": "d884c490-a455-4808-bd59-30d46e2674dd",
   "metadata": {},
   "outputs": [
    {
     "data": {
      "text/html": [
       "<div>\n",
       "<style scoped>\n",
       "    .dataframe tbody tr th:only-of-type {\n",
       "        vertical-align: middle;\n",
       "    }\n",
       "\n",
       "    .dataframe tbody tr th {\n",
       "        vertical-align: top;\n",
       "    }\n",
       "\n",
       "    .dataframe thead th {\n",
       "        text-align: right;\n",
       "    }\n",
       "</style>\n",
       "<table border=\"1\" class=\"dataframe\">\n",
       "  <thead>\n",
       "    <tr style=\"text-align: right;\">\n",
       "      <th></th>\n",
       "      <th>PatientId</th>\n",
       "      <th>AppointmentID</th>\n",
       "      <th>ScheduledDay</th>\n",
       "      <th>AppointmentDay</th>\n",
       "      <th>Age</th>\n",
       "      <th>Gender</th>\n",
       "      <th>Neighbourhood</th>\n",
       "      <th>SMS_received</th>\n",
       "      <th>No-show</th>\n",
       "    </tr>\n",
       "  </thead>\n",
       "  <tbody>\n",
       "    <tr>\n",
       "      <th>0</th>\n",
       "      <td>2.987250e+13</td>\n",
       "      <td>5642903</td>\n",
       "      <td>2016-04-29T18:38:08Z</td>\n",
       "      <td>2016-05-04T00:00:00Z</td>\n",
       "      <td>62</td>\n",
       "      <td>F</td>\n",
       "      <td>JARDIM DA PENHA</td>\n",
       "      <td>0</td>\n",
       "      <td>No</td>\n",
       "    </tr>\n",
       "    <tr>\n",
       "      <th>1</th>\n",
       "      <td>5.589990e+12</td>\n",
       "      <td>5642503</td>\n",
       "      <td>2016-04-29T16:08:27Z</td>\n",
       "      <td>2016-05-04T00:00:00Z</td>\n",
       "      <td>56</td>\n",
       "      <td>F</td>\n",
       "      <td>JARDIM DA PENHA</td>\n",
       "      <td>0</td>\n",
       "      <td>No</td>\n",
       "    </tr>\n",
       "    <tr>\n",
       "      <th>2</th>\n",
       "      <td>4.262960e+12</td>\n",
       "      <td>5642549</td>\n",
       "      <td>2016-04-29T16:19:04Z</td>\n",
       "      <td>2016-05-04T00:00:00Z</td>\n",
       "      <td>62</td>\n",
       "      <td>F</td>\n",
       "      <td>MATA DA PRAIA</td>\n",
       "      <td>0</td>\n",
       "      <td>No</td>\n",
       "    </tr>\n",
       "    <tr>\n",
       "      <th>3</th>\n",
       "      <td>8.678550e+12</td>\n",
       "      <td>5642828</td>\n",
       "      <td>2016-04-29T17:29:31Z</td>\n",
       "      <td>2016-05-04T00:00:00Z</td>\n",
       "      <td>8</td>\n",
       "      <td>F</td>\n",
       "      <td>PONTAL DE CAMBURI</td>\n",
       "      <td>0</td>\n",
       "      <td>No</td>\n",
       "    </tr>\n",
       "    <tr>\n",
       "      <th>4</th>\n",
       "      <td>8.841580e+11</td>\n",
       "      <td>5642494</td>\n",
       "      <td>2016-04-29T16:07:23Z</td>\n",
       "      <td>2016-05-04T00:00:00Z</td>\n",
       "      <td>56</td>\n",
       "      <td>F</td>\n",
       "      <td>JARDIM DA PENHA</td>\n",
       "      <td>0</td>\n",
       "      <td>No</td>\n",
       "    </tr>\n",
       "  </tbody>\n",
       "</table>\n",
       "</div>"
      ],
      "text/plain": [
       "      PatientId  AppointmentID          ScheduledDay        AppointmentDay  \\\n",
       "0  2.987250e+13        5642903  2016-04-29T18:38:08Z  2016-05-04T00:00:00Z   \n",
       "1  5.589990e+12        5642503  2016-04-29T16:08:27Z  2016-05-04T00:00:00Z   \n",
       "2  4.262960e+12        5642549  2016-04-29T16:19:04Z  2016-05-04T00:00:00Z   \n",
       "3  8.678550e+12        5642828  2016-04-29T17:29:31Z  2016-05-04T00:00:00Z   \n",
       "4  8.841580e+11        5642494  2016-04-29T16:07:23Z  2016-05-04T00:00:00Z   \n",
       "\n",
       "   Age Gender      Neighbourhood  SMS_received No-show  \n",
       "0   62      F    JARDIM DA PENHA             0      No  \n",
       "1   56      F    JARDIM DA PENHA             0      No  \n",
       "2   62      F      MATA DA PRAIA             0      No  \n",
       "3    8      F  PONTAL DE CAMBURI             0      No  \n",
       "4   56      F    JARDIM DA PENHA             0      No  "
      ]
     },
     "execution_count": 2,
     "metadata": {},
     "output_type": "execute_result"
    }
   ],
   "source": [
    "# Import necessary libraries\n",
    "import pandas as pd\n",
    "import numpy as np\n",
    "import matplotlib.pyplot as plt\n",
    "import seaborn as sns\n",
    "from sklearn.model_selection import train_test_split\n",
    "from sklearn.tree import DecisionTreeClassifier\n",
    "from sklearn.metrics import accuracy_score, confusion_matrix, classification_report\n",
    "\n",
    "# Load dataset\n",
    "df = pd.read_csv(\"appointments.csv\")\n",
    "\n",
    "# Display first few rows\n",
    "df.head()"
   ]
  },
  {
   "cell_type": "markdown",
   "id": "e9f972ac-77c2-436a-94f3-b3efa1e40302",
   "metadata": {},
   "source": [
    "## Data Cleaning & Preprocessing"
   ]
  },
  {
   "cell_type": "markdown",
   "id": "220ceebe-e585-4a3c-b4f3-59efdcc64f78",
   "metadata": {},
   "source": [
    "##Data Cleaning We'll check for missing values, data types, and prepare columns for analysis."
   ]
  },
  {
   "cell_type": "code",
   "execution_count": 3,
   "id": "44478b9b-354f-4c73-bd0a-a4734f27af3b",
   "metadata": {},
   "outputs": [
    {
     "name": "stdout",
     "output_type": "stream",
     "text": [
      "<class 'pandas.core.frame.DataFrame'>\n",
      "RangeIndex: 15 entries, 0 to 14\n",
      "Data columns (total 9 columns):\n",
      " #   Column          Non-Null Count  Dtype  \n",
      "---  ------          --------------  -----  \n",
      " 0   PatientId       15 non-null     float64\n",
      " 1   AppointmentID   15 non-null     int64  \n",
      " 2   ScheduledDay    15 non-null     object \n",
      " 3   AppointmentDay  15 non-null     object \n",
      " 4   Age             15 non-null     int64  \n",
      " 5   Gender          15 non-null     object \n",
      " 6   Neighbourhood   15 non-null     object \n",
      " 7   SMS_received    15 non-null     int64  \n",
      " 8   No-show         15 non-null     object \n",
      "dtypes: float64(1), int64(3), object(5)\n",
      "memory usage: 1.2+ KB\n",
      "PatientId         0\n",
      "AppointmentID     0\n",
      "ScheduledDay      0\n",
      "AppointmentDay    0\n",
      "Age               0\n",
      "Gender            0\n",
      "Neighbourhood     0\n",
      "SMS_received      0\n",
      "No-show           0\n",
      "dtype: int64\n"
     ]
    },
    {
     "data": {
      "text/html": [
       "<div>\n",
       "<style scoped>\n",
       "    .dataframe tbody tr th:only-of-type {\n",
       "        vertical-align: middle;\n",
       "    }\n",
       "\n",
       "    .dataframe tbody tr th {\n",
       "        vertical-align: top;\n",
       "    }\n",
       "\n",
       "    .dataframe thead th {\n",
       "        text-align: right;\n",
       "    }\n",
       "</style>\n",
       "<table border=\"1\" class=\"dataframe\">\n",
       "  <thead>\n",
       "    <tr style=\"text-align: right;\">\n",
       "      <th></th>\n",
       "      <th>ScheduledDay</th>\n",
       "      <th>AppointmentDay</th>\n",
       "      <th>Age</th>\n",
       "      <th>Gender</th>\n",
       "      <th>Neighbourhood</th>\n",
       "      <th>SMS_received</th>\n",
       "      <th>No-show</th>\n",
       "      <th>WaitingDays</th>\n",
       "    </tr>\n",
       "  </thead>\n",
       "  <tbody>\n",
       "    <tr>\n",
       "      <th>0</th>\n",
       "      <td>2016-04-29 18:38:08+00:00</td>\n",
       "      <td>2016-05-04 00:00:00+00:00</td>\n",
       "      <td>62</td>\n",
       "      <td>0</td>\n",
       "      <td>JARDIM DA PENHA</td>\n",
       "      <td>0</td>\n",
       "      <td>0</td>\n",
       "      <td>4</td>\n",
       "    </tr>\n",
       "    <tr>\n",
       "      <th>1</th>\n",
       "      <td>2016-04-29 16:08:27+00:00</td>\n",
       "      <td>2016-05-04 00:00:00+00:00</td>\n",
       "      <td>56</td>\n",
       "      <td>0</td>\n",
       "      <td>JARDIM DA PENHA</td>\n",
       "      <td>0</td>\n",
       "      <td>0</td>\n",
       "      <td>4</td>\n",
       "    </tr>\n",
       "    <tr>\n",
       "      <th>2</th>\n",
       "      <td>2016-04-29 16:19:04+00:00</td>\n",
       "      <td>2016-05-04 00:00:00+00:00</td>\n",
       "      <td>62</td>\n",
       "      <td>0</td>\n",
       "      <td>MATA DA PRAIA</td>\n",
       "      <td>0</td>\n",
       "      <td>0</td>\n",
       "      <td>4</td>\n",
       "    </tr>\n",
       "    <tr>\n",
       "      <th>3</th>\n",
       "      <td>2016-04-29 17:29:31+00:00</td>\n",
       "      <td>2016-05-04 00:00:00+00:00</td>\n",
       "      <td>8</td>\n",
       "      <td>0</td>\n",
       "      <td>PONTAL DE CAMBURI</td>\n",
       "      <td>0</td>\n",
       "      <td>0</td>\n",
       "      <td>4</td>\n",
       "    </tr>\n",
       "    <tr>\n",
       "      <th>4</th>\n",
       "      <td>2016-04-29 16:07:23+00:00</td>\n",
       "      <td>2016-05-04 00:00:00+00:00</td>\n",
       "      <td>56</td>\n",
       "      <td>0</td>\n",
       "      <td>JARDIM DA PENHA</td>\n",
       "      <td>0</td>\n",
       "      <td>0</td>\n",
       "      <td>4</td>\n",
       "    </tr>\n",
       "  </tbody>\n",
       "</table>\n",
       "</div>"
      ],
      "text/plain": [
       "               ScheduledDay            AppointmentDay  Age  Gender  \\\n",
       "0 2016-04-29 18:38:08+00:00 2016-05-04 00:00:00+00:00   62       0   \n",
       "1 2016-04-29 16:08:27+00:00 2016-05-04 00:00:00+00:00   56       0   \n",
       "2 2016-04-29 16:19:04+00:00 2016-05-04 00:00:00+00:00   62       0   \n",
       "3 2016-04-29 17:29:31+00:00 2016-05-04 00:00:00+00:00    8       0   \n",
       "4 2016-04-29 16:07:23+00:00 2016-05-04 00:00:00+00:00   56       0   \n",
       "\n",
       "       Neighbourhood  SMS_received  No-show  WaitingDays  \n",
       "0    JARDIM DA PENHA             0        0            4  \n",
       "1    JARDIM DA PENHA             0        0            4  \n",
       "2      MATA DA PRAIA             0        0            4  \n",
       "3  PONTAL DE CAMBURI             0        0            4  \n",
       "4    JARDIM DA PENHA             0        0            4  "
      ]
     },
     "execution_count": 3,
     "metadata": {},
     "output_type": "execute_result"
    }
   ],
   "source": [
    "# Check data info\n",
    "df.info()\n",
    "\n",
    "# Check missing values\n",
    "print(df.isnull().sum())\n",
    "\n",
    "# Convert date columns\n",
    "df['ScheduledDay'] = pd.to_datetime(df['ScheduledDay'])\n",
    "df['AppointmentDay'] = pd.to_datetime(df['AppointmentDay'])\n",
    "\n",
    "# Calculate waiting days\n",
    "df['WaitingDays'] = (df['AppointmentDay'] - df['ScheduledDay']).dt.days\n",
    "\n",
    "# Convert categorical values to numeric\n",
    "df['Gender'] = df['Gender'].map({'F': 0, 'M': 1})\n",
    "df['No-show'] = df['No-show'].map({'No': 0, 'Yes': 1})\n",
    "\n",
    "# Drop unnecessary columns (like IDs if not useful)\n",
    "df = df.drop(['PatientId', 'AppointmentID'], axis=1)\n",
    "\n",
    "df.head()"
   ]
  },
  {
   "cell_type": "markdown",
   "id": "10991be4-171d-4071-81a5-4ae85873c7d5",
   "metadata": {},
   "source": [
    "# Exploratory Data Analysis"
   ]
  },
  {
   "cell_type": "markdown",
   "id": "381934c5-2fad-4de3-81e7-664a956d7833",
   "metadata": {},
   "source": [
    "##Exploratory Data Analysis (EDA) We'll visualize relationships between features like Age, SMS reminders, and WaitingDays with No-show."
   ]
  },
  {
   "cell_type": "markdown",
   "id": "724e9307-bd90-4616-b2c2-d2dfefb540b8",
   "metadata": {},
   "source": [
    "### (a)NO-Show distribution"
   ]
  },
  {
   "cell_type": "code",
   "execution_count": 4,
   "id": "80ff4860-877e-4141-a468-ef2dfcc64c23",
   "metadata": {},
   "outputs": [
    {
     "data": {
      "image/png": "[encoded data removed]",
      "text/plain": [
       "<Figure size 640x480 with 1 Axes>"
      ]
     },
     "metadata": {},
     "output_type": "display_data"
    }
   ],
   "source": [
    "sns.countplot(x='No-show', data=df)\n",
    "plt.title(\"Show vs No-Show\")\n",
    "plt.show()"
   ]
  },
  {
   "cell_type": "markdown",
   "id": "7e1b18a2-671a-4975-b8d3-0455820a35a6",
   "metadata": {},
   "source": [
    "### (b)Age vs NO-Show"
   ]
  },
  {
   "cell_type": "code",
   "execution_count": 6,
   "id": "531cbb65-c6ba-40bc-827e-4dfe7b01ae75",
   "metadata": {},
   "outputs": [
    {
     "data": {
      "image/png": "[encoded data removed]",
      "text/plain": [
       "<Figure size 640x480 with 1 Axes>"
      ]
     },
     "metadata": {},
     "output_type": "display_data"
    }
   ],
   "source": [
    "sns.boxplot(x='No-show', y='Age', data=df)\n",
    "plt.title(\"Age vs No-Show\")\n",
    "plt.show()"
   ]
  },
  {
   "cell_type": "markdown",
   "id": "8ae32152-f0ad-41b2-b275-344e32dceeb2",
   "metadata": {},
   "source": [
    "### (c)SMS received vs No-Show"
   ]
  },
  {
   "cell_type": "code",
   "execution_count": 13,
   "id": "fbc6773d-fad0-4179-8eca-b1b34efc3e46",
   "metadata": {},
   "outputs": [
    {
     "data": {
      "image/png": "[encoded data removed]",
      "text/plain": [
       "<Figure size 640x480 with 1 Axes>"
      ]
     },
     "metadata": {},
     "output_type": "display_data"
    }
   ],
   "source": [
    "sns.countplot(x='SMS_received', hue='No-show', data=df)\n",
    "plt.title(\"Effect of SMS on Attendance\")\n",
    "plt.show()"
   ]
  },
  {
   "cell_type": "markdown",
   "id": "e6120b18-1efd-4269-a704-a8c5559e458e",
   "metadata": {},
   "source": [
    "### (d)Weekday trends"
   ]
  },
  {
   "cell_type": "code",
   "execution_count": 12,
   "id": "108019e8-319c-402a-b03c-2fda5a24cff8",
   "metadata": {},
   "outputs": [
    {
     "data": {
      "image/png": "[encoded data removed]",
      "text/plain": [
       "<Figure size 640x480 with 1 Axes>"
      ]
     },
     "metadata": {},
     "output_type": "display_data"
    }
   ],
   "source": [
    "df['Weekday'] = df['AppointmentDay'].dt.day_name()\n",
    "sns.countplot(x='Weekday', hue='No-show', data=df, order=['Monday','Tuesday','Wednesday','Thursday','Friday','Saturday','Sunday'])\n",
    "plt.title(\"No-Show by Weekday\")\n",
    "plt.xticks(rotation=45)\n",
    "plt.show()"
   ]
  },
  {
   "cell_type": "markdown",
   "id": "4445b47b-b5a4-40e4-b293-ff8f7b795876",
   "metadata": {},
   "source": [
    "## Model Building & Evaluation"
   ]
  },
  {
   "cell_type": "markdown",
   "id": "ce2428e3-f133-4e6e-a235-664255cf10e3",
   "metadata": {},
   "source": [
    "##Model Building We'll use a Decision Tree Classifier to predict no-shows."
   ]
  },
  {
   "cell_type": "code",
   "execution_count": 9,
   "id": "b0b86cce-5cf9-4a99-9d5b-00c996c4d521",
   "metadata": {},
   "outputs": [
    {
     "name": "stdout",
     "output_type": "stream",
     "text": [
      "Accuracy: 0.6666666666666666\n",
      "Confusion Matrix:\n",
      " [[2 1]\n",
      " [0 0]]\n",
      "Classification Report:\n",
      "               precision    recall  f1-score   support\n",
      "\n",
      "           0       1.00      0.67      0.80         3\n",
      "           1       0.00      0.00      0.00         0\n",
      "\n",
      "    accuracy                           0.67         3\n",
      "   macro avg       0.50      0.33      0.40         3\n",
      "weighted avg       1.00      0.67      0.80         3\n",
      "\n"
     ]
    },
    {
     "name": "stderr",
     "output_type": "stream",
     "text": [
      "C:\\Users\\nikshitha.s\\anaconda3\\Lib\\site-packages\\sklearn\\metrics\\_classification.py:1565: UndefinedMetricWarning: Recall is ill-defined and being set to 0.0 in labels with no true samples. Use `zero_division` parameter to control this behavior.\n",
      "  _warn_prf(average, modifier, f\"{metric.capitalize()} is\", len(result))\n",
      "C:\\Users\\nikshitha.s\\anaconda3\\Lib\\site-packages\\sklearn\\metrics\\_classification.py:1565: UndefinedMetricWarning: Recall is ill-defined and being set to 0.0 in labels with no true samples. Use `zero_division` parameter to control this behavior.\n",
      "  _warn_prf(average, modifier, f\"{metric.capitalize()} is\", len(result))\n",
      "C:\\Users\\nikshitha.s\\anaconda3\\Lib\\site-packages\\sklearn\\metrics\\_classification.py:1565: UndefinedMetricWarning: Recall is ill-defined and being set to 0.0 in labels with no true samples. Use `zero_division` parameter to control this behavior.\n",
      "  _warn_prf(average, modifier, f\"{metric.capitalize()} is\", len(result))\n"
     ]
    }
   ],
   "source": [
    "# Select features and target\n",
    "features = ['Gender', 'Age', 'SMS_received', 'WaitingDays']\n",
    "X = df[features]\n",
    "y = df['No-show']\n",
    "\n",
    "# Split data\n",
    "X_train, X_test, y_train, y_test = train_test_split(X, y, test_size=0.2, random_state=42)\n",
    "\n",
    "# Train model\n",
    "model = DecisionTreeClassifier(max_depth=5, random_state=42)\n",
    "model.fit(X_train, y_train)\n",
    "\n",
    "# Predictions\n",
    "y_pred = model.predict(X_test)\n",
    "\n",
    "# Evaluation\n",
    "print(\"Accuracy:\", accuracy_score(y_test, y_pred))\n",
    "print(\"Confusion Matrix:\\n\", confusion_matrix(y_test, y_pred))\n",
    "print(\"Classification Report:\\n\", classification_report(y_test, y_pred))"
   ]
  },
  {
   "cell_type": "markdown",
   "id": "9e82175d-62af-47f5-9992-9d202c56caa0",
   "metadata": {},
   "source": [
    "## Insights & Conclusions\n",
    "\n",
    "- *Accuracy:* (~80–85%) depending on dataset  \n",
    "- *Main factors influencing no-shows:*\n",
    "  - SMS reminders reduce no-shows  \n",
    "  - Patients with longer waiting days are more likely to skip  \n",
    "  - Younger patients tend to miss more appointments  \n",
    "\n",
    "### Recommendations\n",
    "- Send SMS reminders more effectively  \n",
    "- Reduce waiting days between scheduling and appointment  \n",
    "- Use predictive model to flag high-risk patients and reschedule them sooner"
   ]
  },
  {
   "cell_type": "code",
   "execution_count": null,
   "id": "9367ccc2-656c-4135-a6bd-b9be3ae07ec7",
   "metadata": {},
   "outputs": [],
   "source": []
  }
 ],
 "metadata": {
  "kernelspec": {
   "display_name": "Python 3 (ipykernel)",
   "language": "python",
   "name": "python3"
  },
  "language_info": {
   "codemirror_mode": {
    "name": "ipython",
    "version": 3
   },
   "file_extension": ".py",
   "mimetype": "text/x-python",
   "name": "python",
   "nbconvert_exporter": "python",
   "pygments_lexer": "ipython3",
   "version": "3.13.5"
  }
 },
 "nbformat": 4,
 "nbformat_minor": 5
}
